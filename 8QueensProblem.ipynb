{
 "cells": [
  {
   "cell_type": "markdown",
   "metadata": {},
   "source": [
    "# 8 Queens Solution using Genetic Algorithm"
   ]
  },
  {
   "cell_type": "code",
   "execution_count": null,
   "metadata": {},
   "outputs": [],
   "source": [
    "import random\n",
    "\n",
    "class GenerateQueensSet:\n",
    "    \n",
    "    \n",
    "    def __init__(self,nq,size):\n",
    "        self.nq=nq\n",
    "        self.maxFitness = self.nq *(self.nq-1) //2\n",
    "        print(self.maxFitness)\n",
    "        self.size=size\n",
    "        \n",
    "    def random_chromosome(self,nq): #making random chromosomes \n",
    "        return [ random.randint(1, self.nq) for _ in range(self.nq) ]\n",
    "    \n",
    "    '''Methode to generate initial population'''\n",
    "    def generate_population(self,nq,size):\n",
    "        population = [self.random_chromosome(self.nq) for _ in range(self.size)]\n",
    "        return population\n",
    "    \n",
    "    ''' methode to calculate score of the chromosome'''\n",
    "    def fitness(self,chromosome):\n",
    "        horizontal_collisions = sum([chromosome.count(queen)-1 for queen in chromosome])/2\n",
    "        diagonal_collisions = 0\n",
    "\n",
    "        n = len(chromosome)\n",
    "        left_diagonal = [0] * 2*n\n",
    "        right_diagonal = [0] * 2*n\n",
    "        for i in range(n):\n",
    "            left_diagonal[i + chromosome[i] - 1] += 1\n",
    "            right_diagonal[len(chromosome) - i + chromosome[i] - 2] += 1\n",
    "\n",
    "        diagonal_collisions = 0\n",
    "        for i in range(2*n-1):\n",
    "            counter = 0\n",
    "            if left_diagonal[i] > 1:\n",
    "                counter += left_diagonal[i]-1\n",
    "            if right_diagonal[i] > 1:\n",
    "                counter += right_diagonal[i]-1\n",
    "            diagonal_collisions += counter / (n-abs(i-n+1))\n",
    "\n",
    "        return int(self.maxFitness - (horizontal_collisions + diagonal_collisions)) #28-(2+3)=23\n",
    "\n",
    "    def probability(self,chromosome, fitness):\n",
    "        return self.fitness(chromosome) / self.maxFitness\n",
    "\n",
    "    def random_pick(self,population, probabilities):\n",
    "        populationWithProbabilty = zip(population, probabilities)\n",
    "        total = sum(w for c, w in populationWithProbabilty)\n",
    "        r = random.uniform(0, total)\n",
    "        upto = 0\n",
    "        for c, w in zip(population, probabilities):\n",
    "            if upto + w >= r:\n",
    "                return c\n",
    "            upto += w\n",
    "        assert False, \"Shouldn't get here\"\n",
    "\n",
    "    ''' Methode for cross-over '''\n",
    "    def reproduce(self,x, y): #doing cross_over between two chromosomes\n",
    "        n = len(x)\n",
    "        c = random.randint(0, n - 1)\n",
    "        return x[0:c] + y[c:n]\n",
    "    ''' Methode for Mutation '''\n",
    "    def mutate(self,x):  #randomly changing the value of a random index of a chromosome\n",
    "        n = len(x)\n",
    "        c = random.randint(0, n - 1)\n",
    "        m = random.randint(1, n)\n",
    "        x[c] = m\n",
    "        return x\n",
    "    '''Methode to generate new population '''\n",
    "    def genetic_queen(self,population, fitness):\n",
    "        mutation_probability = 0.03\n",
    "        new_population = []\n",
    "        probabilities = [self.probability(n, fitness) for n in population]\n",
    "        for i in range(len(population)):\n",
    "            x = self.random_pick(population, probabilities) #best chromosome 1\n",
    "            y = self.random_pick(population, probabilities) #best chromosome 2\n",
    "            child = self.reproduce(x, y) #creating two new chromosomes from the best 2 chromosomes\n",
    "            if random.random() < mutation_probability:\n",
    "                child = self.mutate(child)\n",
    "            self.print_chromosome(child)\n",
    "            new_population.append(child)\n",
    "            if self.fitness(child) == self.maxFitness: break\n",
    "        return new_population\n",
    "    \n",
    "    def print_chromosome(self,chrom):\n",
    "        print(\"Chromosome = {},  Fitness = {}\".format(str(chrom), self.fitness(chrom)))\n",
    "    \n",
    "    '''Main Methode'''\n",
    "    def solve(self):\n",
    "        population = self.generate_population(self.nq,self.size)\n",
    "        generation = 1\n",
    "\n",
    "        while not self.maxFitness in [self.fitness(chrom) for chrom in population]:\n",
    "            #print(\"=== Generation {} ===\".format(generation))\n",
    "            population = self.genetic_queen(population, self.fitness)\n",
    "            #print(\"\")\n",
    "            print(\"Maximum Fitness = {}\".format(max([self.fitness(n) for n in population])))\n",
    "            generation += 1\n",
    "        chrom_out = []\n",
    "        print(\"Solved in Generation {}!\".format(generation-1))\n",
    "        for chrom in population:\n",
    "            if self.fitness(chrom) == self.maxFitness:\n",
    "                print(\"\");\n",
    "                print(\"One of the solutions: \")\n",
    "                chrom_out = chrom\n",
    "                self.print_chromosome(chrom)\n",
    "        \n",
    "        return chrom_out\n"
   ]
  },
  {
   "cell_type": "markdown",
   "metadata": {},
   "source": [
    "Creating object with queens and size of initial populatin"
   ]
  },
  {
   "cell_type": "code",
   "execution_count": null,
   "metadata": {},
   "outputs": [],
   "source": [
    "size=5\n",
    "nq=8\n",
    "obj = GenerateQueensSet(nq,size)"
   ]
  },
  {
   "cell_type": "markdown",
   "metadata": {},
   "source": [
    "Get the correct solution"
   ]
  },
  {
   "cell_type": "code",
   "execution_count": null,
   "metadata": {},
   "outputs": [],
   "source": [
    "chromosome = obj.solve()"
   ]
  },
  {
   "cell_type": "code",
   "execution_count": null,
   "metadata": {},
   "outputs": [],
   "source": [
    "chromosome"
   ]
  },
  {
   "cell_type": "markdown",
   "metadata": {},
   "source": [
    "# perform unit test "
   ]
  },
  {
   "cell_type": "code",
   "execution_count": null,
   "metadata": {},
   "outputs": [],
   "source": [
    "''' Unite test to check horizonal collision, diagonal collision and lenght of the recevied chromosome'''\n",
    "import unittest\n",
    "\n",
    "#chromosome = []\n",
    "\n",
    "class MyTestCase(unittest.TestCase):\n",
    "    \n",
    "    def test_lenght(self):\n",
    "        self.assertEqual(len(chromosome),8)\n",
    "        \n",
    "    def test_horizontal(self):\n",
    "        horizontal_collisions = sum([chromosome.count(queen)-1 for queen in chromosome])/2\n",
    "        print(chromosome)\n",
    "        self.assertEqual(horizontal_collisions,0)\n",
    "        \n",
    "    def test_diagonal(self):\n",
    "        n = len(chromosome)\n",
    "        left_diagonal = [0] * 2*n\n",
    "        right_diagonal = [0] * 2*n\n",
    "        for i in range(n):\n",
    "            left_diagonal[i + chromosome[i] - 1] += 1\n",
    "            right_diagonal[len(chromosome) - i + chromosome[i] - 2] += 1\n",
    "\n",
    "        diagonal_collisions = 0\n",
    "        for i in range(2*n-1):\n",
    "            counter = 0\n",
    "            if left_diagonal[i] > 1:\n",
    "                counter += left_diagonal[i]-1\n",
    "            if right_diagonal[i] > 1:\n",
    "                counter += right_diagonal[i]-1\n",
    "            diagonal_collisions += counter / (n-abs(i-n+1))\n",
    "        self.assertEqual(diagonal_collisions,0)\n",
    "        "
   ]
  },
  {
   "cell_type": "code",
   "execution_count": null,
   "metadata": {},
   "outputs": [],
   "source": [
    "if __name__ == '__main__':\n",
    "    \n",
    "    #chromosome = [6, 3, 7, 2, 4, 8, 1, 5]\n",
    "    unittest.main(argv=['first-arg-is-ignored'], exit=False)\n",
    "\n",
    "    #objTest = MyTestCase()"
   ]
  },
  {
   "cell_type": "code",
   "execution_count": null,
   "metadata": {},
   "outputs": [],
   "source": [
    "pwd"
   ]
  },
  {
   "cell_type": "code",
   "execution_count": null,
   "metadata": {},
   "outputs": [],
   "source": []
  }
 ],
 "metadata": {
  "kernelspec": {
   "display_name": "Python 3",
   "language": "python",
   "name": "python3"
  },
  "language_info": {
   "codemirror_mode": {
    "name": "ipython",
    "version": 3
   },
   "file_extension": ".py",
   "mimetype": "text/x-python",
   "name": "python",
   "nbconvert_exporter": "python",
   "pygments_lexer": "ipython3",
   "version": "3.7.3"
  }
 },
 "nbformat": 4,
 "nbformat_minor": 2
}
